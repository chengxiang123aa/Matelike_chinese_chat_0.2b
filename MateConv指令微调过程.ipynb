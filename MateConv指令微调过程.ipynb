{
 "cells": [
  {
   "cell_type": "markdown",
   "id": "5208da09-51ce-43e9-9ba4-9e202bad7963",
   "metadata": {},
   "source": [
    "- 查看指令微调的数据文件"
   ]
  },
  {
   "cell_type": "code",
   "execution_count": 2,
   "id": "158273a8-c475-4a84-aa65-01835d1b4e1d",
   "metadata": {},
   "outputs": [
    {
     "name": "stdout",
     "output_type": "stream",
     "text": [
      "{'id': 1, 'instruction': '', 'input': '好的。现在请你将这个文本中的所有的逗号都替换成空格。', 'output': '好的，请稍等一下，现在我会将文本中的所有逗号替换为空格。处理后文本为：\"这是一个句子 目的是看看是否可以正确地从这个句子中删除关键词。\"。处理结果如何？', 'history': [['给定一段文本和关键词列表，删除文本中包含所有给定关键词的子字符串。\\n文本：\"这是一个测试句子，目的是看看模型是否可以正确地从这个句子中删除关键词。\"\\\\n关键词列表：[‘测试’，‘模型’]', '删除包含所有给定关键词的子字符串后，文本变为：\"这是一个句子，目的是看看是否可以正确地从这个句子中删除关键词。\"']], 'language': 'chinese', 'data_source': 'https://huggingface.co/datasets/BelleGroup/train_3.5M_CN', 'input_len': 59, 'output_len': 66, 'num_utter': 2, 'type': 31, 'type_keyword': ['字符串', '代码', '函数', '编写', '实现', '给定', '使用', '输入', '文本', '程序']}\n",
      "{'id': 2, 'instruction': '', 'input': '帮我回答一道历史题目。清朝时期的八旗共有多少旗人？', 'output': '清朝时期八旗旗人总数约为200万人左右，其中正黄旗、正蓝旗、正白旗、正红旗的人数较多，其他旗的人数较少。', 'history': [['写一个关于秋天的诗吧。', '红黄绿交织，田野金黄色。风吹枫叶落，人在秋天慢步行。'], ['给我推荐一些好听的摇滚歌曲。', \"摇滚歌曲推荐：AC/DC的Back in Black，Guns N' Roses的Sweet Child O' Mine，Rolling Stones的Satisfaction，Led Zeppelin的Stairway to Heaven，Nirvana的Smells Like Teen Spirit等。\"], ['计算一下2的100次方。', '2的100次方等于1.267650600228229401496703205376e+30，约等于1.27乘以10的30次方。']], 'language': 'chinese', 'data_source': 'https://huggingface.co/datasets/BelleGroup/train_3.5M_CN', 'input_len': 15, 'output_len': 73, 'num_utter': 4, 'type': 11, 'type_keyword': ['生成', '诗歌', '主题', '爱情', '创作', '描述', '歌词', '表达', '歌曲', '有关']}\n",
      "{'id': 3, 'instruction': '', 'input': '嗯，谢谢你介绍的做法很详细，但我不喜欢吃鸡蛋，有没有其他菜做法能介绍一下？', 'output': '当然，你可以试试酸辣土豆丝这道菜。\\n材料：\\n土豆2个、红椒1个、青椒1个、大葱1根、醋、生抽、盐、鸡精、料酒\\n做法：\\n1.土豆去皮，切成丝；红椒和青椒切成细丝；大葱切段备用。\\n2.热锅凉油，油热后放入土豆丝，煸炒至变软。\\n3.倒入红椒、青椒和大葱段，继续煸炒至熟。\\n4.加入适量的盐、鸡精、料酒和生抽，翻炒均匀。\\n5.最后，加入适量的醋，翻炒均匀即可。\\n小贴士：\\n1. 土豆切丝时，可以放入淡盐水中泡一下，这样可以去除多余的淀粉。\\n2. 煮土豆丝时，不要煮得太久，以免烂糊。\\n3. 加入醋的时候，根据自己的口味多少来进行调节，一般来说，盐与醋的比例为1:1。\\n4. 如果喜欢辣味可以加入一些干辣椒丝。\\n希望你会喜欢这道酸辣土豆丝！', 'history': [['介绍一道好吃的家常菜的做法', '番茄炒蛋\\n材料：\\n鸡蛋3个、番茄1个、油、盐、糖、水淀粉\\n做法：\\n1.番茄洗净切成小块；鸡蛋打入碗中搅匀备用。\\n2.热锅凉油，油热后放入番茄翻炒。\\n3.番茄煮软后放盐，糖调味，再倒入打好的鸡蛋液，翻炒均匀。\\n4.鸡蛋凝固后关火。\\n5.加入半碗水，大火煮开。\\n6.用水淀粉勾芡，装盘即可。\\n小贴士：\\n1. 番茄不能切得太细，否则炒出来就不太好看了。\\n2. 在调味时，糖的分量也很重要，可以根据自己的口味来调节。\\n3. 水淀粉勾芡的比例是：水和淀粉的比例大概是5:1。\\n4. 煮开之后，记得要把水淀粉慢慢倒入，同时不断地搅拌，以免结块。\\n5. 最后装盘时可以点缀一些绿色蔬菜，既好看又好吃。']], 'language': 'chinese', 'data_source': 'https://huggingface.co/datasets/BelleGroup/train_3.5M_CN', 'input_len': 25, 'output_len': 304, 'num_utter': 2, 'type': 47, 'type_keyword': ['制作', '食谱', '包括', '描述', '步骤', '烹饪', '提供', '材料', '食材', '菜谱']}\n",
      "{'id': 4, 'instruction': '', 'input': '请描述一下如何正确规划个人理财。', 'output': '正确规划个人理财需要以下几个步骤：\\n1.了解自己的财务状况。这包括收入、支出、资产和负债等信息。了解自己的财务状况可以帮助人们更好地制定财务计划。\\n2.设定财务目标。需要考虑短期目标和长期目标，例如以年为单位设定的支出计划、购房、购车等的长期目标。\\n3.制定预算计划。在了解自己的财务状况并设定财务目标后，需要制定一个预算计划。这可以帮助人们控制支出、节省开支并达到财务目标。\\n4.理性投资和储蓄。人们可以投资于股票、基金、房产或其他投资渠道以实现财务目标。但在投资前需了解相关知识并进行风险评估。同时还应储蓄一定金额，以应对突发事件或为达成某些目标做准备。\\n5.审时度势，合理调整。财务计划需要不断地审时度势，根据实际情况做出调整，以达到最终的财务目标。需要注意财务状况的变化、投资的收益和风险等因素。\\n通过以上五个步骤，人们可以做到合理规划个人理财，掌握自己的财务命运，更好地实现自己的财务目标。', 'history': [], 'language': 'chinese', 'data_source': 'https://huggingface.co/datasets/BelleGroup/train_3.5M_CN', 'input_len': 16, 'output_len': 400, 'num_utter': 1, 'type': 26, 'type_keyword': ['提供', '建议', '问题', '提高', '方法', '帮助', '提出', '进行', '解决', '给出']}\n",
      "{'id': 5, 'instruction': '', 'input': '描述一下天堂和地狱的生态系统和环境。', 'output': '天堂和地狱被认为是灵性信仰中关于死后世界的两种不同概念。然而，它们的生态系统和环境都是具有类似特征的极端不同的地方。以下是我对天堂和地狱的生态系统和环境的描述。\\n天堂的生态系统和环境:\\n天堂被描绘为一个美丽、平静、和谐的地方，类似于一片无垢的花园。天堂的生态系统和环境的特征包括:\\n1. 充满和平和爱的氛围。这是一个没有恐惧、痛苦、疾病和死亡的地方。\\n2. 色彩缤纷，充满生机。这是一个绿树成荫、花团锦簇的地方，充满生机和活力。\\n3. 各种生物和动物和谐共存。天使、圣人和各种动物和谐相处，生态系统中没有互相侵害或抢夺资源。\\n4. 充满清新气息的空气。没有污染、烟雾或其他有害物质，空气中充满清新芬芳的气息。\\n5. 物质丰富的环境。天堂中生活着满足需求和愿望的人们，他们拥有一切所需的物质资源，而且没有匮乏、浪费或不公平。\\n地狱的生态系统和环境:\\n地狱被描绘为阴暗、恐怖、嘈杂和可怕的地方。地狱的生态系统和环境的特征包括:\\n1. 充满痛苦和折磨的氛围。这是一个充满恐惧、悔恨和痛苦的地方，全是罪恶的味道。\\n2. 火焰和烈火环绕。地狱中有燃烧的火焰和烈火，许多受罚者被投入火坑中痛苦折磨。\\n3. 恶魔和妖魔横行。地狱中有恶魔、妖怪等可怕的生物，它们在无休止的受苦中享受着自己的又一场比赛。\\n4. 污染和恶臭的气味。地狱中到处都是恶臭和污染，没有清新的气息。\\n5. 没有物质资源。地狱中生活着被惩罚的人们不可能拥有任何物质财富，地狱环境充满了无尽的贫困、饥饿和疾病。\\n综上所述，天堂和地狱是两个完全不同的地方，它们的生态系统和环境反映了它们的性质，体现了人类对不同阶段的死后生命的不同想象和信仰。', 'history': [], 'language': 'chinese', 'data_source': 'https://huggingface.co/datasets/BelleGroup/train_3.5M_CN', 'input_len': 18, 'output_len': 696, 'num_utter': 1, 'type': 23, 'type_keyword': ['解释', '描述', '概念', '提供', '包括', '说明', '给出', '应用', '介绍', '原理']}\n"
     ]
    }
   ],
   "source": [
    "import jsonlines\n",
    "\n",
    "# 查看JSONL文件的前几行\n",
    "file_path = './dataset/sft_data_zh.jsonl'\n",
    "\n",
    "with jsonlines.open(file_path) as reader:\n",
    "    for i, obj in enumerate(reader):\n",
    "        print(obj)  # 打印每一行\n",
    "        if i >= 4:  # 只打印前5行\n",
    "            break"
   ]
  },
  {
   "cell_type": "code",
   "execution_count": 37,
   "id": "98fafe37-6098-40bf-b8da-da136c8f845f",
   "metadata": {},
   "outputs": [
    {
     "name": "stdout",
     "output_type": "stream",
     "text": [
      "  history                                q  \\\n",
      "0      []           请从这篇文章中提取出关于分类垃圾的解决方案。   \n",
      "1      []  根据以下文本，对此事件进行分类：中国队在足球比赛中赢得了冠军。   \n",
      "2      []                     请告诉我什么是机器学习。   \n",
      "3      []                    请解释一下什么是人工智能。   \n",
      "4      []           对给定的命题进行真假判断\\n梦是一种真实经验   \n",
      "\n",
      "                                                   a  \n",
      "0  文章中提到的第二个方面——分类垃圾，是解决垃圾污染的有效措施之一。垃圾分类是指将生活垃圾按照...  \n",
      "1  这个事件可以被分类为体育比赛。具体地，中国队在足球比赛中致胜并赢得了冠军。由此可以推断出，这...  \n",
      "2  机器学习是一种人工智能技术，它使用算法和数学模型，让计算机自动地从数据中学习，并根据这些数据...  \n",
      "3  人工智能是一种模拟人类智能的技术和方法。它的发展包括机器学习、自然语言处理、计算机视觉等技术...  \n",
      "4  这个命题是错误的。尽管梦境中的经验可以让我们产生强烈的情感反应，但梦并不是一种真实经验，它是...  \n"
     ]
    }
   ],
   "source": [
    "import pandas as pd\n",
    "\n",
    "# 加载 CSV 文件\n",
    "file_path = './dataset/sft_data_single.csv'  # 确保路径正确\n",
    "\n",
    "# 使用 pandas 读取前 5 行\n",
    "df = pd.read_csv(file_path, nrows=5)\n",
    "\n",
    "# 显示前 5 行数据\n",
    "print(df)"
   ]
  },
  {
   "cell_type": "markdown",
   "id": "5531f96f-9cbd-4d46-b56c-9e56b11c23fe",
   "metadata": {},
   "source": [
    "- 导入必要的库"
   ]
  },
  {
   "cell_type": "code",
   "execution_count": 17,
   "id": "bed50173-ca4c-4e78-9b2c-59f2055133b0",
   "metadata": {},
   "outputs": [],
   "source": [
    "import csv\n",
    "import itertools\n",
    "import re\n",
    "import json\n",
    "import jsonlines\n",
    "import psutil\n",
    "import ujson\n",
    "import numpy as np\n",
    "import pandas as pd\n",
    "from transformers import AutoTokenizer\n",
    "from datasets import load_dataset\n",
    "from tqdm import tqdm"
   ]
  },
  {
   "cell_type": "code",
   "execution_count": 18,
   "id": "e4cf603f-2993-4e64-8124-0770639fda8d",
   "metadata": {},
   "outputs": [],
   "source": [
    "bos_token = \"<s>\"\n",
    "eos_token = \"</s>\""
   ]
  },
  {
   "cell_type": "code",
   "execution_count": 19,
   "id": "00b52b27-4df6-4239-958e-784dfd979442",
   "metadata": {},
   "outputs": [
    {
     "name": "stdout",
     "output_type": "stream",
     "text": [
      "tokenizer词表大小： 6400\n"
     ]
    }
   ],
   "source": [
    "tokenizer = AutoTokenizer.from_pretrained('./model/mateconv_tokenizer', use_fast=False)\n",
    "print('tokenizer词表大小：', len(tokenizer))"
   ]
  },
  {
   "cell_type": "markdown",
   "id": "4ec94796-f66a-4f4a-bf7d-a59b219800b8",
   "metadata": {},
   "source": [
    "- 修改数据集类型"
   ]
  },
  {
   "cell_type": "code",
   "execution_count": 15,
   "id": "cd272615-b66a-46bd-a34a-0fe16555cbec",
   "metadata": {},
   "outputs": [],
   "source": [
    "from tqdm import tqdm  # 导入 tqdm\n",
    "\n",
    "def sft_process(contain_history=False):\n",
    "    file_name = 'sft_data.csv' if contain_history else 'sft_data_single.csv'\n",
    "\n",
    "    def chinese_ratio(text):\n",
    "        \"\"\"计算文本中中文字符的比例。\"\"\"\n",
    "        chinese_chars = re.findall(r'[\\u4e00-\\u9fff]', text)  # 匹配中文字符\n",
    "        return len(chinese_chars) / len(text) if text else 0\n",
    "\n",
    "    def process_and_write_data(data):\n",
    "        \"\"\"处理数据并将其写入 CSV 文件。\"\"\"\n",
    "        q_lst, a_lst, history_lst = [], [], []\n",
    "        for per in data:\n",
    "            history, q, a = per['history'], per['q'], per['a']\n",
    "\n",
    "            # 数据筛选条件\n",
    "            if (contain_history and not history) or not q or not a:\n",
    "                continue\n",
    "            if len(q) < 10 or len(a) < 5:\n",
    "                continue\n",
    "            if len(q) > 256 or len(a) > 256:\n",
    "                continue\n",
    "            if not (chinese_ratio(q) > 0.9 and chinese_ratio(a) > 0.9):\n",
    "                continue\n",
    "\n",
    "            # 将有效数据添加到列表\n",
    "            q_lst.append(q)\n",
    "            a_lst.append(a)\n",
    "            if contain_history:\n",
    "                history_lst.append(history)\n",
    "            else:\n",
    "                history_lst.append([])\n",
    "\n",
    "        # 创建 DataFrame 并写入 CSV 文件\n",
    "        df = pd.DataFrame({'history': history_lst, 'q': q_lst, 'a': a_lst})\n",
    "        df.to_csv(f'./dataset/{file_name}', mode='a', header=False, index=False, \n",
    "                   lineterminator='\\r\\n', escapechar='\\\\', quoting=csv.QUOTE_MINIMAL)\n",
    "\n",
    "    chunk_size = 1000  # 每次处理的记录数\n",
    "    data = []\n",
    "\n",
    "    # 创建 CSV 文件并写入表头\n",
    "    with open(f'./dataset/{file_name}', 'w', encoding='utf-8') as f:\n",
    "        f.write('history,q,a\\n')\n",
    "\n",
    "    sft_datasets = ['./dataset/sft_data_zh.jsonl']\n",
    "    \n",
    "    # 开始处理数据集\n",
    "    for path in sft_datasets:\n",
    "        with jsonlines.open(path) as reader:\n",
    "            total_lines = sum(1 for _ in open(path))  # 获取总行数\n",
    "            \n",
    "            # 使用 tqdm 创建进度条\n",
    "            with tqdm(total=total_lines, desc=\"Processing lines\") as pbar:\n",
    "                for idx, obj in enumerate(reader):\n",
    "                    try:\n",
    "                        data.append({\n",
    "                            'history': obj.get('history', ''),\n",
    "                            'q': obj.get('input', '') + obj.get('q', ''),\n",
    "                            'a': obj.get('output', '') + obj.get('a', '')\n",
    "                        })\n",
    "\n",
    "                        # 每达到 chunk_size，就处理并写入数据\n",
    "                        if len(data) >= chunk_size:\n",
    "                            process_and_write_data(data)\n",
    "                            data = []\n",
    "                            pbar.update(chunk_size)  # 更新进度条\n",
    "\n",
    "                    except jsonlines.InvalidLineError as e:\n",
    "                        print(f\"Skipping invalid JSON line {idx + 1}: {e}\")\n",
    "                        continue\n",
    "\n",
    "                # 处理剩余的数据\n",
    "                if data:\n",
    "                    process_and_write_data(data)\n",
    "                    pbar.update(len(data))  # 更新进度条\n",
    "\n",
    "    print(\"数据处理完成！\")"
   ]
  },
  {
   "cell_type": "code",
   "execution_count": 16,
   "id": "af4ef9f6-8105-4689-9fe6-361358cca51c",
   "metadata": {},
   "outputs": [
    {
     "name": "stderr",
     "output_type": "stream",
     "text": [
      "Processing lines: 100%|██████████| 11381621/11381621 [02:59<00:00, 63243.30it/s]"
     ]
    },
    {
     "name": "stdout",
     "output_type": "stream",
     "text": [
      "数据处理完成！\n"
     ]
    },
    {
     "name": "stderr",
     "output_type": "stream",
     "text": [
      "\n"
     ]
    }
   ],
   "source": [
    "sft_process(contain_history=False)"
   ]
  },
  {
   "cell_type": "markdown",
   "id": "a0957fd6-1f96-468c-a01f-e44cde5ec1d6",
   "metadata": {},
   "source": [
    "- 进行指令微调"
   ]
  },
  {
   "cell_type": "code",
   "execution_count": 257,
   "id": "fbdfab9c-b1cf-4529-9f3d-5f6038445724",
   "metadata": {},
   "outputs": [],
   "source": [
    "# !deepspeed --master_port 29500 --num_gpus=2 full_sft.py --out_dir out --epochs 5"
   ]
  },
  {
   "cell_type": "markdown",
   "id": "048f7fee-3373-48e7-b51c-1d8399cf5d54",
   "metadata": {},
   "source": [
    "<center><img src=\"https://ml2022.oss-cn-hangzhou.aliyuncs.com/img/9f1b2321dc79550b1e0f194e165ff22.png\" alt=\"9f1b2321dc79550b1e0f194e165ff22\" style=\"zoom:50%;\" />"
   ]
  },
  {
   "cell_type": "markdown",
   "id": "e3d3ac35-8ea0-43e0-910f-a707bb6e1b3e",
   "metadata": {},
   "source": [
    "- 对话测试"
   ]
  },
  {
   "cell_type": "code",
   "execution_count": 1,
   "id": "779926de-1d6a-44d1-a86a-8b7ea44dce7b",
   "metadata": {},
   "outputs": [
    {
     "name": "stderr",
     "output_type": "stream",
     "text": [
      "/opt/conda/lib/python3.10/site-packages/tqdm/auto.py:21: TqdmWarning: IProgress not found. Please update jupyter and ipywidgets. See https://ipywidgets.readthedocs.io/en/stable/user_install.html\n",
      "  from .autonotebook import tqdm as notebook_tqdm\n"
     ]
    }
   ],
   "source": [
    "import torch\n",
    "import random\n",
    "import numpy as np\n",
    "from transformers import AutoTokenizer\n",
    "from model.model import Transformer\n",
    "from model.LMConfig import LMConfig"
   ]
  },
  {
   "cell_type": "code",
   "execution_count": 2,
   "id": "e1aa809c-51c0-4285-a2ed-7b18945d6e76",
   "metadata": {},
   "outputs": [],
   "source": [
    "# 1. 设置设备和随机种子\n",
    "device = torch.device(\"cuda\" if torch.cuda.is_available() else \"cpu\")\n",
    "\n",
    "def setup_seed(seed):\n",
    "    random.seed(seed)\n",
    "    np.random.seed(seed)\n",
    "    torch.manual_seed(seed)\n",
    "    torch.cuda.manual_seed(seed)\n",
    "    torch.cuda.manual_seed_all(seed)\n",
    "    torch.backends.cudnn.deterministic = True\n",
    "    torch.backends.cudnn.benchmark = False\n",
    "\n",
    "setup_seed(1337)"
   ]
  },
  {
   "cell_type": "code",
   "execution_count": 3,
   "id": "bf709993-73c0-46f2-aa5b-bbf44cbc41f6",
   "metadata": {},
   "outputs": [
    {
     "data": {
      "text/plain": [
       "Transformer(\n",
       "  (tok_embeddings): Embedding(6400, 512)\n",
       "  (dropout): Dropout(p=0.0, inplace=False)\n",
       "  (layers): ModuleList(\n",
       "    (0-7): 8 x TransformerBlock(\n",
       "      (attention): Attention(\n",
       "        (wq): Linear(in_features=512, out_features=512, bias=False)\n",
       "        (wk): Linear(in_features=512, out_features=256, bias=False)\n",
       "        (wv): Linear(in_features=512, out_features=256, bias=False)\n",
       "        (wo): Linear(in_features=512, out_features=512, bias=False)\n",
       "        (attn_dropout): Dropout(p=0.0, inplace=False)\n",
       "        (resid_dropout): Dropout(p=0.0, inplace=False)\n",
       "      )\n",
       "      (attention_norm): RMSNorm()\n",
       "      (ffn_norm): RMSNorm()\n",
       "      (feed_forward): FeedForward(\n",
       "        (w1): Linear(in_features=512, out_features=1408, bias=False)\n",
       "        (w2): Linear(in_features=1408, out_features=512, bias=False)\n",
       "        (w3): Linear(in_features=512, out_features=1408, bias=False)\n",
       "        (dropout): Dropout(p=0.0, inplace=False)\n",
       "      )\n",
       "    )\n",
       "  )\n",
       "  (norm): RMSNorm()\n",
       "  (output): Linear(in_features=512, out_features=6400, bias=False)\n",
       ")"
      ]
     },
     "execution_count": 3,
     "metadata": {},
     "output_type": "execute_result"
    }
   ],
   "source": [
    "# 2. 初始化模型和分词器\n",
    "lm_config = LMConfig()\n",
    "max_seq_len = 1024  # 可以根据需要调整\n",
    "lm_config.max_seq_len = max_seq_len\n",
    "\n",
    "model = Transformer(lm_config).to(device)\n",
    "model_path = './out/full_sft_512.pth'  # 替换为你的模型路径\n",
    "state_dict = torch.load(model_path, map_location=device)\n",
    "model.load_state_dict(state_dict)\n",
    "model.eval()"
   ]
  },
  {
   "cell_type": "code",
   "execution_count": 4,
   "id": "0007abaa-c03a-4f1b-84f7-949dddb6e3c2",
   "metadata": {},
   "outputs": [],
   "source": [
    "tokenizer = AutoTokenizer.from_pretrained('MateConv/model/mateconv_tokenizer') "
   ]
  },
  {
   "cell_type": "code",
   "execution_count": 5,
   "id": "11cd2e81-c019-48ab-a752-b4c3813a6607",
   "metadata": {},
   "outputs": [],
   "source": [
    "# 3. 对话函数：生成完整回复\n",
    "def generate_reply(prompt, temperature=0.5, top_k=16, stream=True):\n",
    "    messages = [{\"role\": \"user\", \"content\": prompt}]\n",
    "    \n",
    "    # 使用自定义的 prompt 模板 (根据你的应用逻辑)\n",
    "    new_prompt = tokenizer.apply_chat_template(\n",
    "        messages, \n",
    "        tokenize=False, \n",
    "        add_generation_prompt=True\n",
    "    )[-(max_seq_len - 1):]\n",
    "\n",
    "    input_ids = tokenizer(new_prompt).data['input_ids']\n",
    "    input_ids = torch.tensor(input_ids, dtype=torch.long, device=device).unsqueeze(0)\n",
    "\n",
    "    generated_text = \"\"\n",
    "    with torch.no_grad():\n",
    "        # 生成器返回的生成结果\n",
    "        res_y = model.generate(input_ids, \n",
    "                               tokenizer.eos_token_id, \n",
    "                               max_new_tokens=max_seq_len, \n",
    "                               temperature=temperature, \n",
    "                               top_k=top_k, \n",
    "                               stream=stream)\n",
    "\n",
    "        # 从生成器逐步获取生成结果\n",
    "        try:\n",
    "            y = next(res_y)\n",
    "        except StopIteration:\n",
    "            print(\"No answer\")\n",
    "            return \"\"\n",
    "\n",
    "        history_idx = 0\n",
    "        while y is not None:\n",
    "            answer = tokenizer.decode(y[0].tolist())\n",
    "            if answer and answer[-1] == '�':\n",
    "                try:\n",
    "                    y = next(res_y)\n",
    "                except StopIteration:\n",
    "                    break\n",
    "                continue\n",
    "\n",
    "            if len(answer):\n",
    "                generated_text += answer[history_idx:]\n",
    "            \n",
    "            try:\n",
    "                y = next(res_y)\n",
    "            except StopIteration:\n",
    "                break\n",
    "            history_idx = len(answer)\n",
    "\n",
    "    return generated_text"
   ]
  },
  {
   "cell_type": "code",
   "execution_count": 9,
   "id": "c241fa8b-db4f-4a53-b276-aff33a3e6dac",
   "metadata": {},
   "outputs": [
    {
     "data": {
      "text/plain": [
       "'你好，很高兴认识你！请问你有什么需要帮助的地方吗？'"
      ]
     },
     "execution_count": 9,
     "metadata": {},
     "output_type": "execute_result"
    }
   ],
   "source": [
    "response = generate_reply(\"你好,好久不见！\")\n",
    "response"
   ]
  },
  {
   "cell_type": "code",
   "execution_count": 10,
   "id": "a06f66d5-f301-4309-8969-3698b2ba7269",
   "metadata": {},
   "outputs": [
    {
     "data": {
      "text/plain": [
       "'光速是指光在真空中传播的速率，通常用符号c表示。根据国际单位制（SI）的定义，光速的常数为299,792,458米/秒。这个事实是物理学中非常重要的一个定理，它告诉我们在不同介质中，光速的大小是不同的。光速在真空中是不存在的，因为光速在真空中是不存在的。光速在真空中是不存在的，因为光在真空中只能传播，所以光速在真空中是不存在的。这个定律表明，任何传播光的速度都是相对于光速的，无论是从哪个方向传播，光速都是恒定的。光速在真空中是不存在的，因为光速不是一个固定的数值，而是不是一个固定的数值。因此，光速不存在。总之，光速是一个非常基本的物理常数，它在真空中是不存在的，但它是不存在的。'"
      ]
     },
     "execution_count": 10,
     "metadata": {},
     "output_type": "execute_result"
    }
   ],
   "source": [
    "response = generate_reply(\"你知道光速是多少吗？\")\n",
    "response"
   ]
  },
  {
   "cell_type": "code",
   "execution_count": 15,
   "id": "b4e27cb3-5066-4646-a81d-f3dc2c982a59",
   "metadata": {},
   "outputs": [
    {
     "data": {
      "text/plain": [
       "'世界上最好的大学是位于意大利博洛尼亚市的博洛尼亚大学（University，of，Bologna）该大学成立于1096年，是意大利最古老、最著名的高等教育机构之一。它位于意大利博洛尼亚市的中央，是意大利最古老、最著名的大学之一。博洛尼亚大学在欧洲和亚洲都有很强的声誉。博洛尼亚大学的历史可以追溯到11世纪，当时该大学在意大利建立，成为意大利最古老、最著名的大学之一。在那时，教会成员们主要从事教学和研究，这使博洛尼亚大学成为欧洲最好的大学之一。在中世纪和文艺复兴时期，博洛尼亚大学的许多重要事件都发生了变化。例如，在19世纪初，该大学开始扩展其教育范围，并逐渐扩大其教学范围。在20世纪，博洛尼亚大学开始扩大其教育范围，包括更广泛的课程和更广泛的学科领域。在20世纪，博洛尼亚大学成为了一所重要的学术机构，并为该大学的发展做出了重要贡献。在20世纪，博洛尼亚大学继续在全球范围内开设了许多分支机构，包括博洛尼亚大学、圣彼得堡大学和圣安德鲁堡大学等。这些机构和组织为博洛尼亚大学的学术生涯和研究生教育做出了重要的贡献。总之，博洛尼亚大学是意大利最好的大学之一，它在欧洲和亚洲都有着深厚的声誉，并为该大学的声誉和影响力提供了重要的基础。'"
      ]
     },
     "execution_count": 15,
     "metadata": {},
     "output_type": "execute_result"
    }
   ],
   "source": [
    "response = generate_reply(\"世界上最好的大学是哪所大学？\")\n",
    "response"
   ]
  },
  {
   "cell_type": "code",
   "execution_count": 16,
   "id": "ac882bc9-7544-4126-beee-c182be0e07aa",
   "metadata": {},
   "outputs": [
    {
     "data": {
      "text/plain": [
       "'大气的主要成分是氮气（Nitrogen，N2）和氧气（Oxygen，O2）'"
      ]
     },
     "execution_count": 16,
     "metadata": {},
     "output_type": "execute_result"
    }
   ],
   "source": [
    "response = generate_reply(\"大气的主要成分是什么？\")\n",
    "response"
   ]
  },
  {
   "cell_type": "code",
   "execution_count": 17,
   "id": "77bc1687-5ee3-44bd-95ab-deaad00983f2",
   "metadata": {},
   "outputs": [
    {
     "data": {
      "text/plain": [
       "'机器学习是一种人工智能领域的技术，它利用计算机算法和统计学方法，让计算机系统能够自动地从数据中学习，并根据学习到的知识作出预测或决策。机器学习是通过使用统计学和数学方法，让计算机系统从数据中学习，并根据学习到的知识来进行预测或决策。机器学习可以分为三类：监督学习、无监督学习和强化学习。在监督学习中，计算机系统会根据已有的标记数据进行训练，以预测新数据的标记。例如，利用监督学习算法，计算机可以学习如何将输入数据映射到已知的输出数据。在无监督学习中，计算机系统会从未标记的数据中学习，并发现其中的模式和结构。例如，聚类算法可以将一组数据分成不同的群组，以便更好地理解数据。在强化学习中，计算机系统通过与环境的交互来学习如何做出正确的决策。例如，计算机系统可以通过与环境进行交互来学习如何做出最佳的决策。机器学习在许多领域都有广泛的应用，包括自然语言处理、图像和语音识别、金融预测、医学诊断和自动驾驶汽车等。它已经成为许多行业的重要技术，并在未来继续成为人工智能领域的重要组成部分。'"
      ]
     },
     "execution_count": 17,
     "metadata": {},
     "output_type": "execute_result"
    }
   ],
   "source": [
    "response = generate_reply(\"请问什么是机器学习？\")\n",
    "response"
   ]
  },
  {
   "cell_type": "code",
   "execution_count": 18,
   "id": "31ce7366-2f13-4ba4-badf-4ee996b9c762",
   "metadata": {},
   "outputs": [
    {
     "data": {
      "text/plain": [
       "'机器学习和深度学习都是人工智能领域中的子领域，它们有一些共同的特点，但也有一些不同之处。机器学习是一种通过算法和模型来让计算机从数据中学习规律和模式的方法。机器学习算法可以从数据中学习，并根据这些学习来进行预测或决策。机器学习算法可以分为监督学习、无监督学习和强化学习。监督学习是最常见的机器学习类型，它需要给算法一个带标签的数据集，让它学习如何预测新数据的标签。无监督学习则不需要标签，它需要从数据中自动学习模式和结构。强化学习则是通过试错来学习，它需要根据环境的反馈来调整策略，以获得最大的回报。深度学习是机器学习的一种，它使用深度神经网络来模拟人类大脑的工作方式。深度学习算法可以从大量数据中学习，并自动发现数据中的模式和规律，从而实现更准确的预测和决策。深度学习在计算机视觉、自然语言处理、语音识别等领域中取得了巨大的成功。深度学习的算法可以自动地从数据中提取特征，并自动地进行分类、识别、预测等任务。深度学习算法通常需要大量的数据和计算资源，但它们可以处理大量的数据，并且可以自动地从数据中提取特征。深度学习算法可以自动地从数据中提取特征，并自动地进行分类、识别、回归等任务。因此，机器学习和深度学习都是人工智能领域中的重要分支，它们在不同的应用场景中都有着重要的作用。'"
      ]
     },
     "execution_count": 18,
     "metadata": {},
     "output_type": "execute_result"
    }
   ],
   "source": [
    "response = generate_reply(\"请问机器学习和深度学习的区别是什么？\")\n",
    "response"
   ]
  },
  {
   "cell_type": "code",
   "execution_count": 23,
   "id": "c8412c7d-1935-4c33-abee-93cf93372cde",
   "metadata": {},
   "outputs": [
    {
     "data": {
      "text/plain": [
       "'要建立一个逻辑回归模型，需要进行以下步骤：1.数据预处理：将数据集分为训练集和测试集，通常采用70%的数据作为训练集，30%的数据作为测试集。2.特征工程：将原始的特征转换成可以被模型理解的形式。可以使用一些技术，如特征选择、特征提取、特征变换等，来提高模型的准确性。3.模型选择：选择一个适当的模型，如逻辑回归、支持向量机、决策树等。4.模型训练：使用训练集对模型进行训练，并使用交叉验证等技术来优化模型的参数和超参数。5.模型评估：使用测试集对模型进行评估，计算模型的准确率、精确率、召回率、F1分数等指标。6.模型优化：根据模型评估结果对模型进行优化，例如调整超参数、增加特征、调整模型超参数等。7.模型部署：将模型部署到生产环境中，并使用该模型进行预测、分类、聚类等任务。需要注意的是，建立逻辑回归模型需要一定的技术和经验，并且在实际应用中，需要根据实际情况进行调整和优化。'"
      ]
     },
     "execution_count": 23,
     "metadata": {},
     "output_type": "execute_result"
    }
   ],
   "source": [
    "response = generate_reply(\"帮我建立一个逻辑回归模型？\")\n",
    "response"
   ]
  },
  {
   "cell_type": "markdown",
   "id": "02465c0f-6567-4f20-8b99-8d0eba6996a0",
   "metadata": {},
   "source": [
    "- 测试openai API连接"
   ]
  },
  {
   "cell_type": "code",
   "execution_count": 19,
   "id": "9f8aafb8-4f0d-4fcd-a44a-a8fd48a0dba9",
   "metadata": {},
   "outputs": [],
   "source": [
    "from openai import OpenAI"
   ]
  },
  {
   "cell_type": "code",
   "execution_count": 13,
   "id": "271680a5-9ec9-4366-9deb-b715413ed0f0",
   "metadata": {},
   "outputs": [],
   "source": [
    "client = OpenAI(api_key=\"key\", \n",
    "                base_url=\"http://localhost:8000/v1\")"
   ]
  },
  {
   "cell_type": "code",
   "execution_count": 14,
   "id": "63f03687-b13e-4ced-a65e-a0852c6c6ddf",
   "metadata": {},
   "outputs": [],
   "source": [
    "completion = client.chat.completions.create(\n",
    "  model=\"MateConv\",\n",
    "  messages=[\n",
    "    {\"role\": \"user\", \"content\": \"你好，好久不见！\"}\n",
    "  ]\n",
    ")"
   ]
  },
  {
   "cell_type": "code",
   "execution_count": 15,
   "id": "1da3cf58-5c52-47c7-bde0-028e9ccef144",
   "metadata": {},
   "outputs": [
    {
     "data": {
      "text/plain": [
       "ChatCompletion(id='5ce4080e66844cca8f9c796666ee95ff', choices=[Choice(finish_reason='stop', index=0, logprobs=None, message=ChatCompletionMessage(content='您好！我很高兴能够为您解答问题。请问您有什么问题需要我帮忙解答吗？', refusal=None, role='assistant', function_call=None, tool_calls=None))], created=1727595610, model='MateConv', object='chat.completion', service_tier=None, system_fingerprint=None, usage=None)"
      ]
     },
     "execution_count": 15,
     "metadata": {},
     "output_type": "execute_result"
    }
   ],
   "source": [
    "completion"
   ]
  },
  {
   "cell_type": "code",
   "execution_count": 16,
   "id": "75214bac-bf80-457b-9549-48e2292ed098",
   "metadata": {},
   "outputs": [
    {
     "data": {
      "text/plain": [
       "'您好！我很高兴能够为您解答问题。请问您有什么问题需要我帮忙解答吗？'"
      ]
     },
     "execution_count": 16,
     "metadata": {},
     "output_type": "execute_result"
    }
   ],
   "source": [
    "completion.choices[0].message.content"
   ]
  },
  {
   "cell_type": "code",
   "execution_count": 17,
   "id": "55887a39-f929-466c-9758-d3bf18afea12",
   "metadata": {},
   "outputs": [
    {
     "data": {
      "text/plain": [
       "'人工智能是一种使计算机系统具有人类智能的技术，它通过学习、推理、自然语言处理等技术来实现自主推理和决策。通过机器学习、深度学习等技术，人工智能可以处理大量的数据并进行自我学习，从而实现对问题的解决。'"
      ]
     },
     "execution_count": 17,
     "metadata": {},
     "output_type": "execute_result"
    }
   ],
   "source": [
    "completion = client.chat.completions.create(\n",
    "  model=\"MateConv\",\n",
    "  messages=[\n",
    "    {\"role\": \"user\", \"content\": \"请问，什么是人工智能？\"}\n",
    "  ]\n",
    ")\n",
    "completion.choices[0].message.content"
   ]
  },
  {
   "cell_type": "code",
   "execution_count": 18,
   "id": "b652e0d0-09b9-453f-9f9c-d5a9d6a91796",
   "metadata": {},
   "outputs": [
    {
     "data": {
      "text/plain": [
       "' 深度学习是一种机器学习的方法，它使用大量的数据来训练神经网络。深度学习通常使用多层神经网络来实现各种任务，例如图像识别、自然语言处理和语音识别。深度学习可以用于各种任务，如语音识别、图像识别、机器翻译和推荐系统等。'"
      ]
     },
     "execution_count": 18,
     "metadata": {},
     "output_type": "execute_result"
    }
   ],
   "source": [
    "completion = client.chat.completions.create(\n",
    "  model=\"MateConv\",\n",
    "  messages=[\n",
    "    {\"role\": \"user\", \"content\": \"请问，什么是深度学习？\"}\n",
    "  ]\n",
    ")\n",
    "completion.choices[0].message.content"
   ]
  },
  {
   "cell_type": "code",
   "execution_count": 19,
   "id": "9666ee8e-c9bc-4e1b-a612-b317e5c58324",
   "metadata": {},
   "outputs": [
    {
     "data": {
      "text/plain": [
       "'您好！我也很高兴见到您。有什么需要帮助的吗？'"
      ]
     },
     "execution_count": 19,
     "metadata": {},
     "output_type": "execute_result"
    }
   ],
   "source": [
    "completion = client.chat.completions.create(\n",
    "  model=\"MateConv\",\n",
    "  messages=[\n",
    "    {\"role\": \"user\", \"content\": \"你好，好久不见！\"}\n",
    "  ]\n",
    ")\n",
    "completion.choices[0].message.content"
   ]
  },
  {
   "cell_type": "code",
   "execution_count": null,
   "id": "c6d3e901-b897-4829-9809-f50e03bd2b70",
   "metadata": {},
   "outputs": [],
   "source": []
  },
  {
   "cell_type": "code",
   "execution_count": null,
   "id": "f04689dc-e33c-4041-babc-d4d42c404881",
   "metadata": {},
   "outputs": [],
   "source": []
  },
  {
   "cell_type": "code",
   "execution_count": null,
   "id": "746d4a39-f1c8-4d11-8c99-fa454ad126e3",
   "metadata": {},
   "outputs": [],
   "source": []
  },
  {
   "cell_type": "code",
   "execution_count": null,
   "id": "e496e198-0aef-4723-b9c8-9493c2270402",
   "metadata": {},
   "outputs": [],
   "source": []
  },
  {
   "cell_type": "code",
   "execution_count": null,
   "id": "54a6a3c3-4d83-4dd0-9d23-ae3eb5094096",
   "metadata": {},
   "outputs": [],
   "source": []
  },
  {
   "cell_type": "code",
   "execution_count": null,
   "id": "5b5bdc3e-33a8-463f-8945-4d4ac952cf82",
   "metadata": {},
   "outputs": [],
   "source": []
  }
 ],
 "metadata": {
  "kernelspec": {
   "display_name": "Python 3 (ipykernel)",
   "language": "python",
   "name": "python3"
  },
  "language_info": {
   "codemirror_mode": {
    "name": "ipython",
    "version": 3
   },
   "file_extension": ".py",
   "mimetype": "text/x-python",
   "name": "python",
   "nbconvert_exporter": "python",
   "pygments_lexer": "ipython3",
   "version": "3.10.14"
  }
 },
 "nbformat": 4,
 "nbformat_minor": 5
}
